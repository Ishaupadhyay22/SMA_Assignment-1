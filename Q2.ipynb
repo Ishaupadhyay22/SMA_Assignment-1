{
  "nbformat": 4,
  "nbformat_minor": 0,
  "metadata": {
    "colab": {
      "name": "Q2.ipynb",
      "provenance": []
    },
    "kernelspec": {
      "name": "python3",
      "display_name": "Python 3"
    },
    "language_info": {
      "name": "python"
    }
  },
  "cells": [
    {
      "cell_type": "code",
      "metadata": {
        "id": "cgPALsziTpeB"
      },
      "source": [
        "#STATISTICS"
      ],
      "execution_count": null,
      "outputs": []
    },
    {
      "cell_type": "code",
      "metadata": {
        "colab": {
          "base_uri": "https://localhost:8080/"
        },
        "id": "j2rtZgtG110K",
        "outputId": "64c6e0b0-7564-4a19-d09e-9c652a27512e"
      },
      "source": [
        "import networkx as nx\n",
        "import pandas as pd\n",
        "import matplotlib.pyplot as plt\n",
        "from networkx.algorithms.community.centrality import girvan_newman\n",
        "import itertools\n",
        "print(\"nx version:\",nx.__version__)"
      ],
      "execution_count": null,
      "outputs": [
        {
          "output_type": "stream",
          "name": "stdout",
          "text": [
            "nx version: 2.6.3\n"
          ]
        }
      ]
    },
    {
      "cell_type": "code",
      "metadata": {
        "id": "9XOerFtzVY40"
      },
      "source": [
        ""
      ],
      "execution_count": null,
      "outputs": []
    },
    {
      "cell_type": "code",
      "metadata": {
        "colab": {
          "base_uri": "https://localhost:8080/"
        },
        "id": "D6Btjd3DHJnP",
        "outputId": "50f7de17-8967-4498-fd78-3a5a4244b7cb"
      },
      "source": [
        "!pip install python-modularity-maximization==0.0.1rc4"
      ],
      "execution_count": null,
      "outputs": [
        {
          "output_type": "stream",
          "name": "stdout",
          "text": [
            "Requirement already satisfied: python-modularity-maximization==0.0.1rc4 in /usr/local/lib/python3.7/dist-packages (0.0.1rc4)\n",
            "Requirement already satisfied: numpy in /usr/local/lib/python3.7/dist-packages (from python-modularity-maximization==0.0.1rc4) (1.19.5)\n",
            "Requirement already satisfied: scipy in /usr/local/lib/python3.7/dist-packages (from python-modularity-maximization==0.0.1rc4) (1.4.1)\n",
            "Requirement already satisfied: networkx in /usr/local/lib/python3.7/dist-packages (from python-modularity-maximization==0.0.1rc4) (2.6.3)\n"
          ]
        }
      ]
    },
    {
      "cell_type": "code",
      "metadata": {
        "id": "cqNpE3BlIsZn"
      },
      "source": [
        "from modularity_maximization import partition\n",
        "from modularity_maximization.utils import get_modularity"
      ],
      "execution_count": null,
      "outputs": []
    },
    {
      "cell_type": "code",
      "metadata": {
        "id": "f0ye6_v81wOP"
      },
      "source": [
        "# import karate club graph\n",
        "karate_gml = nx.read_gml(\"karate.gml\", label = 'id')\n",
        "assert nx.number_of_nodes(karate_gml) == 34\n",
        "# import jazz graph\n",
        "jazz_gml = nx.read_gml(\"jazz.gml\")\n",
        "# import dolphins graph\n",
        "dolphins_gml = nx.read_gml(\"dolphins.gml\")"
      ],
      "execution_count": null,
      "outputs": []
    },
    {
      "cell_type": "markdown",
      "metadata": {
        "id": "PtZYOX9zWEnQ"
      },
      "source": [
        ""
      ]
    },
    {
      "cell_type": "code",
      "metadata": {
        "colab": {
          "base_uri": "https://localhost:8080/",
          "height": 143
        },
        "id": "n12EmWNg6wFB",
        "outputId": "f0f598c3-c652-4181-e32b-7f9d8f05e8c7"
      },
      "source": [
        "graphs_list = [karate_gml, dolphins_gml, jazz_gml]\n",
        "data = list()\n",
        "for graph in graphs_list:\n",
        "  d = [\n",
        "        nx.number_of_nodes(graph),\n",
        "        nx.number_of_edges(graph),\n",
        "        nx.average_shortest_path_length(graph),\n",
        "        nx.algorithms.cluster.average_clustering(graph),\n",
        "  ]\n",
        "  data.append(d)\n",
        "\n",
        "df = pd.DataFrame(data, columns=[\"Nodes(n)\",\"Edges(m)\",\"Average Path Length(d)\", \"Average Clustering(C)\",])\n",
        "graph_names = [\"Karate club\", \"Dolphins\", \"Jazz\"]\n",
        "df.insert(0, \"Dataset\",graph_names)\n",
        "df"
      ],
      "execution_count": null,
      "outputs": [
        {
          "output_type": "execute_result",
          "data": {
            "text/html": [
              "<div>\n",
              "<style scoped>\n",
              "    .dataframe tbody tr th:only-of-type {\n",
              "        vertical-align: middle;\n",
              "    }\n",
              "\n",
              "    .dataframe tbody tr th {\n",
              "        vertical-align: top;\n",
              "    }\n",
              "\n",
              "    .dataframe thead th {\n",
              "        text-align: right;\n",
              "    }\n",
              "</style>\n",
              "<table border=\"1\" class=\"dataframe\">\n",
              "  <thead>\n",
              "    <tr style=\"text-align: right;\">\n",
              "      <th></th>\n",
              "      <th>Dataset</th>\n",
              "      <th>Nodes(n)</th>\n",
              "      <th>Edges(m)</th>\n",
              "      <th>Average Path Length(d)</th>\n",
              "      <th>Average Clustering(C)</th>\n",
              "    </tr>\n",
              "  </thead>\n",
              "  <tbody>\n",
              "    <tr>\n",
              "      <th>0</th>\n",
              "      <td>Karate club</td>\n",
              "      <td>34</td>\n",
              "      <td>78</td>\n",
              "      <td>2.408200</td>\n",
              "      <td>0.570638</td>\n",
              "    </tr>\n",
              "    <tr>\n",
              "      <th>1</th>\n",
              "      <td>Dolphins</td>\n",
              "      <td>62</td>\n",
              "      <td>159</td>\n",
              "      <td>3.356954</td>\n",
              "      <td>0.258958</td>\n",
              "    </tr>\n",
              "    <tr>\n",
              "      <th>2</th>\n",
              "      <td>Jazz</td>\n",
              "      <td>198</td>\n",
              "      <td>2742</td>\n",
              "      <td>0.796262</td>\n",
              "      <td>0.308725</td>\n",
              "    </tr>\n",
              "  </tbody>\n",
              "</table>\n",
              "</div>"
            ],
            "text/plain": [
              "       Dataset  Nodes(n)  ...  Average Path Length(d)  Average Clustering(C)\n",
              "0  Karate club        34  ...                2.408200               0.570638\n",
              "1     Dolphins        62  ...                3.356954               0.258958\n",
              "2         Jazz       198  ...                0.796262               0.308725\n",
              "\n",
              "[3 rows x 5 columns]"
            ]
          },
          "metadata": {},
          "execution_count": 57
        }
      ]
    },
    {
      "cell_type": "code",
      "metadata": {
        "id": "t8RjlR1IVZHa"
      },
      "source": [
        ""
      ],
      "execution_count": null,
      "outputs": []
    },
    {
      "cell_type": "code",
      "metadata": {
        "id": "ZEJjcQbRVZQJ"
      },
      "source": [
        ""
      ],
      "execution_count": null,
      "outputs": []
    }
  ]
}